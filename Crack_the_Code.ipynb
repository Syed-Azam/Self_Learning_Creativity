{
 "cells": [
  {
   "cell_type": "code",
   "execution_count": 58,
   "metadata": {},
   "outputs": [
    {
     "name": "stdout",
     "output_type": "stream",
     "text": [
      "042\n"
     ]
    }
   ],
   "source": [
    "def c1(n):\n",
    "    return ((n[0] == \"6\") + (n[1] == \"8\") + (n[2] == \"2\")) == 1\n",
    "\n",
    "def c2(n):\n",
    "    a = (\"6\" in n) + (\"1\" in n) + (\"4\" in n) # one number is correct\n",
    "    if a == 1:\n",
    "        return ((n[1] == \"6\" or n[2] == \"6\") + (n[0] == \"1\" or n[2] == \"1\") + (n[0] == \"4\" or n[1] == \"4\")) == 1\n",
    "    else:\n",
    "        return False\n",
    "\n",
    "def c3(n):\n",
    "    a = (\"2\" in n) + (\"0\" in n) + (\"6\" in n) # two numbers are correct\n",
    "    if a == 2:\n",
    "        return ((n[0] == \"2\") + (n[1] == \"0\") + (n[2] == \"6\")) == 0\n",
    "    else:\n",
    "        return False\n",
    "\n",
    "def c4(n):\n",
    "    return (\"7\" in n) + (\"3\" in n) + (\"8\" in n) == 0\n",
    "\n",
    "def c5(n):\n",
    "    a = (\"7\" in n) + (\"8\" in n) + (\"0\" in n) # one number is correct\n",
    "    if a == 1:\n",
    "        return ((n[1] == \"7\" or n[2] == \"7\") + (n[0] == \"8\" or n[2] == \"8\") + (n[0] == \"0\" or n[1] == \"0\")) == 1\n",
    "    else:\n",
    "        return False\n",
    "\n",
    "for ni in range(1000):\n",
    "    ns = f\"{ni:03d}\"\n",
    "    c = [c1(ns), c2(ns), c3(ns), c4(ns), c5(ns)]\n",
    "    if all(c):\n",
    "        print(ns)"
   ]
  },
  {
   "cell_type": "code",
   "execution_count": null,
   "metadata": {},
   "outputs": [],
   "source": []
  },
  {
   "cell_type": "code",
   "execution_count": null,
   "metadata": {},
   "outputs": [],
   "source": []
  }
 ],
 "metadata": {
  "kernelspec": {
   "display_name": "Python 3",
   "language": "python",
   "name": "python3"
  },
  "language_info": {
   "codemirror_mode": {
    "name": "ipython",
    "version": 3
   },
   "file_extension": ".py",
   "mimetype": "text/x-python",
   "name": "python",
   "nbconvert_exporter": "python",
   "pygments_lexer": "ipython3",
   "version": "3.7.3"
  }
 },
 "nbformat": 4,
 "nbformat_minor": 2
}
