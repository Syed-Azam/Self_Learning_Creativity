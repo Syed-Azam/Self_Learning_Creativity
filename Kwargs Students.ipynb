{
 "cells": [
  {
   "cell_type": "code",
   "execution_count": 49,
   "metadata": {},
   "outputs": [
    {
     "name": "stdout",
     "output_type": "stream",
     "text": [
      "Student Name : Ali\n",
      "Class Name   : Ai\n",
      "--------------------\n",
      "Subject     Marks\n",
      "--------------------\n",
      "math          50\n",
      "physics       80\n",
      "biology       90\n",
      "computer      67\n",
      "--------------------\n",
      "Total        287\n",
      "Percentage   71.75\n",
      "Maximum      90\n",
      "Minimum      50\n",
      "--------------------\n",
      "You are not promoted to next class.\n"
     ]
    }
   ],
   "source": [
    "def showDetails(name, clas, date, nextclass, **kwargs):\n",
    "    print(f\"Student Name : {name}\")\n",
    "    print(f\"Class Name   : {clas}\")\n",
    "    print(\"-\"*20)\n",
    "    print(f\"Subject     Marks\")\n",
    "    print(\"-\"*20)\n",
    "    for sub, marks in kwargs.items():\n",
    "        print(sub.ljust(13), marks)\n",
    "    print(\"-\"*20)\n",
    "    print(\"Total       \", sum(kwargs.values()))\n",
    "    print(\"Percentage  \", sum(kwargs.values())/len(kwargs))\n",
    "    print(\"Maximum     \", max(kwargs.values()))\n",
    "    print(\"Minimum     \", min(kwargs.values()))\n",
    "    print(\"-\"*20)\n",
    "    print(\"You are\", \"promoted\" if nextclass else \"not promoted\",\"to next class.\")\n",
    "\n",
    "marks = {\"math\" : 50, \"physics\" : 80, \"biology\" : 90, \"computer\" : 67}\n",
    "showDetails(name = \"Ali\", clas = \"Ai\", date = \"1 Feb 2020\", nextclass = False,**marks)"
   ]
  },
  {
   "cell_type": "code",
   "execution_count": null,
   "metadata": {},
   "outputs": [],
   "source": []
  }
 ],
 "metadata": {
  "kernelspec": {
   "display_name": "Python 3",
   "language": "python",
   "name": "python3"
  },
  "language_info": {
   "codemirror_mode": {
    "name": "ipython",
    "version": 3
   },
   "file_extension": ".py",
   "mimetype": "text/x-python",
   "name": "python",
   "nbconvert_exporter": "python",
   "pygments_lexer": "ipython3",
   "version": "3.7.5"
  }
 },
 "nbformat": 4,
 "nbformat_minor": 2
}
