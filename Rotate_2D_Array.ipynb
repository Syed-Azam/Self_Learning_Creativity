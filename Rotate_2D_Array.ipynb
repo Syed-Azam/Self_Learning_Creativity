{
 "cells": [
  {
   "cell_type": "code",
   "execution_count": 21,
   "metadata": {},
   "outputs": [
    {
     "name": "stdout",
     "output_type": "stream",
     "text": [
      "[1, 2, 3]\n",
      "[4, 5, 6]\n",
      "[7, 8, 9]\n",
      "\n",
      "[7, 4, 1]\n",
      "[8, 5, 2]\n",
      "[9, 6, 3]\n"
     ]
    }
   ],
   "source": [
    "# Rotate a Two Dimensional Array\n",
    "import copy\n",
    "mat = [ [1, 2, 3 ], \n",
    "        [4, 5, 6 ], \n",
    "        [7, 8, 9 ] ]\n",
    "for n in range(3):\n",
    "    print(mat[n])\n",
    "mat = mat[::-1]\n",
    "mat2 = copy.deepcopy(mat)\n",
    "for a in range(3):\n",
    "    for b in range(3):\n",
    "        mat2[a][b]=mat[b][a]\n",
    "print()\n",
    "for n in range(3):\n",
    "    print(mat2[n])"
   ]
  },
  {
   "cell_type": "code",
   "execution_count": null,
   "metadata": {},
   "outputs": [],
   "source": []
  }
 ],
 "metadata": {
  "kernelspec": {
   "display_name": "Python 3",
   "language": "python",
   "name": "python3"
  },
  "language_info": {
   "codemirror_mode": {
    "name": "ipython",
    "version": 3
   },
   "file_extension": ".py",
   "mimetype": "text/x-python",
   "name": "python",
   "nbconvert_exporter": "python",
   "pygments_lexer": "ipython3",
   "version": "3.7.3"
  }
 },
 "nbformat": 4,
 "nbformat_minor": 2
}
